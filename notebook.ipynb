{
 "cells": [
  {
   "cell_type": "markdown",
   "id": "965a2193-9e87-430e-8597-c31d8eab65a1",
   "metadata": {},
   "source": [
    "\"\"\"\n",
    "# Grammar Score Prediction from Audio\n",
    "\n",
    "## 📌 Objective\n",
    "To predict a grammar score (1–5) from audio recordings using machine learning models based on extracted audio features.\n",
    "\n",
    "## 📂 Dataset\n",
    "- `train.csv`: Contains audio filenames and grammar score labels.\n",
    "- `test.csv`: Contains filenames without labels (submission target).\n",
    "- `audios_train/` and `audios_test/`: Contain `.wav` audio files.\n",
    "\n",
    "## ⚙️ Pipeline Overview\n",
    "1. Load metadata and audio files\n",
    "2. Extract meaningful audio features (e.g., MFCC, chroma)\n",
    "3. Preprocess and normalize data\n",
    "4. Train ML models with hyperparameter tuning\n",
    "5. Evaluate performance\n",
    "6. Inference and submission\n",
    "\n",
    "---\n",
    "\"\"\""
   ]
  },
  {
   "cell_type": "code",
   "execution_count": 1,
   "id": "384dc614-23b1-4058-be39-3c81051386ad",
   "metadata": {},
   "outputs": [
    {
     "name": "stdout",
     "output_type": "stream",
     "text": [
      "Requirement already satisfied: librosa in c:\\program files\\drag software\\anaconda\\lib\\site-packages (0.10.2.post1)\n",
      "Requirement already satisfied: scikit-learn in c:\\program files\\drag software\\anaconda\\lib\\site-packages (1.4.2)\n",
      "Requirement already satisfied: pandas in c:\\program files\\drag software\\anaconda\\lib\\site-packages (2.2.2)\n",
      "Requirement already satisfied: numpy in c:\\program files\\drag software\\anaconda\\lib\\site-packages (1.26.4)\n",
      "Requirement already satisfied: matplotlib in c:\\program files\\drag software\\anaconda\\lib\\site-packages (3.8.4)\n",
      "Requirement already satisfied: seaborn in c:\\program files\\drag software\\anaconda\\lib\\site-packages (0.13.2)\n",
      "Collecting lightgbm\n",
      "  Downloading lightgbm-4.6.0-py3-none-win_amd64.whl.metadata (17 kB)\n",
      "Requirement already satisfied: audioread>=2.1.9 in c:\\program files\\drag software\\anaconda\\lib\\site-packages (from librosa) (3.0.1)\n",
      "Requirement already satisfied: scipy>=1.2.0 in c:\\program files\\drag software\\anaconda\\lib\\site-packages (from librosa) (1.13.1)\n",
      "Requirement already satisfied: joblib>=0.14 in c:\\program files\\drag software\\anaconda\\lib\\site-packages (from librosa) (1.4.2)\n",
      "Requirement already satisfied: decorator>=4.3.0 in c:\\program files\\drag software\\anaconda\\lib\\site-packages (from librosa) (4.4.2)\n",
      "Requirement already satisfied: numba>=0.51.0 in c:\\program files\\drag software\\anaconda\\lib\\site-packages (from librosa) (0.59.1)\n",
      "Requirement already satisfied: soundfile>=0.12.1 in c:\\program files\\drag software\\anaconda\\lib\\site-packages (from librosa) (0.12.1)\n",
      "Requirement already satisfied: pooch>=1.1 in c:\\program files\\drag software\\anaconda\\lib\\site-packages (from librosa) (1.8.2)\n",
      "Requirement already satisfied: soxr>=0.3.2 in c:\\program files\\drag software\\anaconda\\lib\\site-packages (from librosa) (0.4.0)\n",
      "Requirement already satisfied: typing-extensions>=4.1.1 in c:\\program files\\drag software\\anaconda\\lib\\site-packages (from librosa) (4.13.0)\n",
      "Requirement already satisfied: lazy-loader>=0.1 in c:\\program files\\drag software\\anaconda\\lib\\site-packages (from librosa) (0.4)\n",
      "Requirement already satisfied: msgpack>=1.0 in c:\\program files\\drag software\\anaconda\\lib\\site-packages (from librosa) (1.0.3)\n",
      "Requirement already satisfied: threadpoolctl>=2.0.0 in c:\\program files\\drag software\\anaconda\\lib\\site-packages (from scikit-learn) (2.2.0)\n",
      "Requirement already satisfied: python-dateutil>=2.8.2 in c:\\program files\\drag software\\anaconda\\lib\\site-packages (from pandas) (2.9.0.post0)\n",
      "Requirement already satisfied: pytz>=2020.1 in c:\\program files\\drag software\\anaconda\\lib\\site-packages (from pandas) (2024.1)\n",
      "Requirement already satisfied: tzdata>=2022.7 in c:\\program files\\drag software\\anaconda\\lib\\site-packages (from pandas) (2023.3)\n",
      "Requirement already satisfied: contourpy>=1.0.1 in c:\\program files\\drag software\\anaconda\\lib\\site-packages (from matplotlib) (1.2.0)\n",
      "Requirement already satisfied: cycler>=0.10 in c:\\program files\\drag software\\anaconda\\lib\\site-packages (from matplotlib) (0.11.0)\n",
      "Requirement already satisfied: fonttools>=4.22.0 in c:\\program files\\drag software\\anaconda\\lib\\site-packages (from matplotlib) (4.51.0)\n",
      "Requirement already satisfied: kiwisolver>=1.3.1 in c:\\program files\\drag software\\anaconda\\lib\\site-packages (from matplotlib) (1.4.4)\n",
      "Requirement already satisfied: packaging>=20.0 in c:\\program files\\drag software\\anaconda\\lib\\site-packages (from matplotlib) (23.2)\n",
      "Requirement already satisfied: pillow>=8 in c:\\program files\\drag software\\anaconda\\lib\\site-packages (from matplotlib) (10.3.0)\n",
      "Requirement already satisfied: pyparsing>=2.3.1 in c:\\program files\\drag software\\anaconda\\lib\\site-packages (from matplotlib) (3.0.9)\n",
      "Requirement already satisfied: llvmlite<0.43,>=0.42.0dev0 in c:\\program files\\drag software\\anaconda\\lib\\site-packages (from numba>=0.51.0->librosa) (0.42.0)\n",
      "Requirement already satisfied: platformdirs>=2.5.0 in c:\\program files\\drag software\\anaconda\\lib\\site-packages (from pooch>=1.1->librosa) (3.10.0)\n",
      "Requirement already satisfied: requests>=2.19.0 in c:\\program files\\drag software\\anaconda\\lib\\site-packages (from pooch>=1.1->librosa) (2.32.3)\n",
      "Requirement already satisfied: six>=1.5 in c:\\program files\\drag software\\anaconda\\lib\\site-packages (from python-dateutil>=2.8.2->pandas) (1.16.0)\n",
      "Requirement already satisfied: cffi>=1.0 in c:\\program files\\drag software\\anaconda\\lib\\site-packages (from soundfile>=0.12.1->librosa) (1.17.1)\n",
      "Requirement already satisfied: pycparser in c:\\program files\\drag software\\anaconda\\lib\\site-packages (from cffi>=1.0->soundfile>=0.12.1->librosa) (2.21)\n",
      "Requirement already satisfied: charset-normalizer<4,>=2 in c:\\program files\\drag software\\anaconda\\lib\\site-packages (from requests>=2.19.0->pooch>=1.1->librosa) (2.0.4)\n",
      "Requirement already satisfied: idna<4,>=2.5 in c:\\program files\\drag software\\anaconda\\lib\\site-packages (from requests>=2.19.0->pooch>=1.1->librosa) (3.7)\n",
      "Requirement already satisfied: urllib3<3,>=1.21.1 in c:\\program files\\drag software\\anaconda\\lib\\site-packages (from requests>=2.19.0->pooch>=1.1->librosa) (2.3.0)\n",
      "Requirement already satisfied: certifi>=2017.4.17 in c:\\program files\\drag software\\anaconda\\lib\\site-packages (from requests>=2.19.0->pooch>=1.1->librosa) (2025.1.31)\n",
      "Downloading lightgbm-4.6.0-py3-none-win_amd64.whl (1.5 MB)\n",
      "   ---------------------------------------- 0.0/1.5 MB ? eta -:--:--\n",
      "    --------------------------------------- 0.0/1.5 MB 1.4 MB/s eta 0:00:02\n",
      "   - -------------------------------------- 0.1/1.5 MB 653.6 kB/s eta 0:00:03\n",
      "   --- ------------------------------------ 0.1/1.5 MB 950.9 kB/s eta 0:00:02\n",
      "   ------- -------------------------------- 0.3/1.5 MB 1.3 MB/s eta 0:00:01\n",
      "   ------- -------------------------------- 0.3/1.5 MB 1.2 MB/s eta 0:00:01\n",
      "   ---------- ----------------------------- 0.4/1.5 MB 1.4 MB/s eta 0:00:01\n",
      "   ------------- -------------------------- 0.5/1.5 MB 1.5 MB/s eta 0:00:01\n",
      "   -------------- ------------------------- 0.5/1.5 MB 1.5 MB/s eta 0:00:01\n",
      "   ----------------- ---------------------- 0.6/1.5 MB 1.5 MB/s eta 0:00:01\n",
      "   -------------------- ------------------- 0.8/1.5 MB 1.6 MB/s eta 0:00:01\n",
      "   ---------------------- ----------------- 0.8/1.5 MB 1.7 MB/s eta 0:00:01\n",
      "   ----------------------- ---------------- 0.9/1.5 MB 1.5 MB/s eta 0:00:01\n",
      "   --------------------------- ------------ 1.0/1.5 MB 1.7 MB/s eta 0:00:01\n",
      "   ----------------------------- ---------- 1.1/1.5 MB 1.7 MB/s eta 0:00:01\n",
      "   ----------------------------------- ---- 1.3/1.5 MB 1.8 MB/s eta 0:00:01\n",
      "   ------------------------------------- -- 1.4/1.5 MB 1.9 MB/s eta 0:00:01\n",
      "   ---------------------------------------- 1.5/1.5 MB 1.8 MB/s eta 0:00:00\n",
      "Installing collected packages: lightgbm\n",
      "Successfully installed lightgbm-4.6.0\n"
     ]
    }
   ],
   "source": [
    "!pip install librosa scikit-learn pandas numpy matplotlib seaborn lightgbm"
   ]
  },
  {
   "cell_type": "code",
   "execution_count": null,
   "id": "1154dddb-d430-428b-9cfd-81cd34ae05a9",
   "metadata": {},
   "outputs": [],
   "source": []
  },
  {
   "cell_type": "code",
   "execution_count": null,
   "id": "8053b6cf-c57a-432c-be50-806d9323d006",
   "metadata": {},
   "outputs": [],
   "source": []
  },
  {
   "cell_type": "code",
   "execution_count": null,
   "id": "8958774b-0321-4ce5-9a26-1649975384bb",
   "metadata": {},
   "outputs": [],
   "source": []
  },
  {
   "cell_type": "code",
   "execution_count": 104,
   "id": "78d2001c-85a4-4c74-a42e-0e6e1ecd9ab5",
   "metadata": {},
   "outputs": [],
   "source": [
    "## importing ibararies\n",
    "\n",
    "import os\n",
    "import pandas as pd\n",
    "import numpy as np\n",
    "import librosa\n",
    "import librosa.display\n",
    "import matplotlib.pyplot as plt\n",
    "import seaborn as sns\n",
    "\n",
    "import warnings\n",
    "warnings.filterwarnings(\"ignore\")"
   ]
  },
  {
   "cell_type": "code",
   "execution_count": 105,
   "id": "0503efcd-fb81-4d7b-bc12-f60cffe0ab0e",
   "metadata": {},
   "outputs": [],
   "source": [
    "## import ml tools\n",
    "from sklearn.ensemble import RandomForestRegressor\n",
    "from sklearn.metrics import mean_absolute_error, mean_squared_error\n",
    "from sklearn.model_selection import train_test_split, GridSearchCV\n",
    "from sklearn.preprocessing import StandardScaler\n",
    "from sklearn.metrics import accuracy_score, confusion_matrix, classification_report"
   ]
  },
  {
   "cell_type": "code",
   "execution_count": null,
   "id": "e31e345e-38ce-4b37-8ae7-c3f0da71592b",
   "metadata": {},
   "outputs": [],
   "source": []
  },
  {
   "cell_type": "markdown",
   "id": "225f2c6f-cfaf-4114-9572-a639153637f5",
   "metadata": {},
   "source": [
    "## loading dataset"
   ]
  },
  {
   "cell_type": "code",
   "execution_count": 56,
   "id": "cf8557e8-c789-4fc1-b61a-bf69278d336d",
   "metadata": {},
   "outputs": [],
   "source": [
    "train_df = pd.read_csv(\"train.csv\")\n",
    "test_df = pd.read_csv(\"test.csv\")\n",
    "sample_sub = pd.read_csv(\"sample_submission.csv\")"
   ]
  },
  {
   "cell_type": "code",
   "execution_count": 106,
   "id": "55b88139-bb31-4398-9c4f-3b2095ffb78e",
   "metadata": {},
   "outputs": [
    {
     "name": "stdout",
     "output_type": "stream",
     "text": [
      "Train shape: (444, 3)\n",
      "Test shape: (195, 2)\n"
     ]
    },
    {
     "data": {
      "text/html": [
       "<div>\n",
       "<style scoped>\n",
       "    .dataframe tbody tr th:only-of-type {\n",
       "        vertical-align: middle;\n",
       "    }\n",
       "\n",
       "    .dataframe tbody tr th {\n",
       "        vertical-align: top;\n",
       "    }\n",
       "\n",
       "    .dataframe thead th {\n",
       "        text-align: right;\n",
       "    }\n",
       "</style>\n",
       "<table border=\"1\" class=\"dataframe\">\n",
       "  <thead>\n",
       "    <tr style=\"text-align: right;\">\n",
       "      <th></th>\n",
       "      <th>filename</th>\n",
       "      <th>label</th>\n",
       "      <th>duration</th>\n",
       "    </tr>\n",
       "  </thead>\n",
       "  <tbody>\n",
       "    <tr>\n",
       "      <th>0</th>\n",
       "      <td>audio_1261.wav</td>\n",
       "      <td>1.0</td>\n",
       "      <td>60.074694</td>\n",
       "    </tr>\n",
       "    <tr>\n",
       "      <th>1</th>\n",
       "      <td>audio_942.wav</td>\n",
       "      <td>1.5</td>\n",
       "      <td>60.074694</td>\n",
       "    </tr>\n",
       "    <tr>\n",
       "      <th>2</th>\n",
       "      <td>audio_1110.wav</td>\n",
       "      <td>1.5</td>\n",
       "      <td>60.074694</td>\n",
       "    </tr>\n",
       "    <tr>\n",
       "      <th>3</th>\n",
       "      <td>audio_1024.wav</td>\n",
       "      <td>1.5</td>\n",
       "      <td>60.074694</td>\n",
       "    </tr>\n",
       "    <tr>\n",
       "      <th>4</th>\n",
       "      <td>audio_538.wav</td>\n",
       "      <td>2.0</td>\n",
       "      <td>60.074694</td>\n",
       "    </tr>\n",
       "  </tbody>\n",
       "</table>\n",
       "</div>"
      ],
      "text/plain": [
       "         filename  label   duration\n",
       "0  audio_1261.wav    1.0  60.074694\n",
       "1   audio_942.wav    1.5  60.074694\n",
       "2  audio_1110.wav    1.5  60.074694\n",
       "3  audio_1024.wav    1.5  60.074694\n",
       "4   audio_538.wav    2.0  60.074694"
      ]
     },
     "execution_count": 106,
     "metadata": {},
     "output_type": "execute_result"
    }
   ],
   "source": [
    "print(\"Train shape:\", train_df.shape)\n",
    "print(\"Test shape:\", test_df.shape)\n",
    "train_df.head()"
   ]
  },
  {
   "cell_type": "code",
   "execution_count": null,
   "id": "eb91155c-ef04-455e-808e-8775915c9bb4",
   "metadata": {},
   "outputs": [],
   "source": []
  },
  {
   "cell_type": "markdown",
   "id": "b2d22467-d6e1-45ca-9c6e-76ac838e9a1d",
   "metadata": {},
   "source": [
    "### EDA"
   ]
  },
  {
   "cell_type": "code",
   "execution_count": 107,
   "id": "6a0c40f4-94cc-4f6b-b0c3-944952fe9804",
   "metadata": {},
   "outputs": [
    {
     "name": "stdout",
     "output_type": "stream",
     "text": [
      "Missing in Train: filename    0\n",
      "label       0\n",
      "duration    0\n",
      "dtype: int64\n",
      "Missing in Test: filename    0\n",
      "duration    0\n",
      "dtype: int64\n"
     ]
    }
   ],
   "source": [
    "## missing values\n",
    "print(\"Missing in Train:\", train_df.isnull().sum())\n",
    "print(\"Missing in Test:\", test_df.isnull().sum())"
   ]
  },
  {
   "cell_type": "code",
   "execution_count": null,
   "id": "5dccefef-f7ef-4ce6-a271-a3cdc53b430a",
   "metadata": {},
   "outputs": [],
   "source": []
  },
  {
   "cell_type": "code",
   "execution_count": 59,
   "id": "07ba2809-46e2-4e0e-95f7-c91063c4b19a",
   "metadata": {},
   "outputs": [
    {
     "data": {
      "image/png": "[encoded data removed]",
      "text/plain": [
       "<Figure size 640x480 with 1 Axes>"
      ]
     },
     "metadata": {},
     "output_type": "display_data"
    }
   ],
   "source": [
    "## score vs count\n",
    "sns.countplot(x='label', data=train_df)\n",
    "plt.title(\"Grammar Score Distribution in Training Set\")\n",
    "plt.xlabel(\"Grammar Score\")\n",
    "plt.ylabel(\"Count\")\n",
    "plt.show()\n"
   ]
  },
  {
   "cell_type": "markdown",
   "id": "b890ddc5-3cde-43c2-9023-42171425ba61",
   "metadata": {},
   "source": [
    "We are using sns.countplot to visualize the distribution of grammar scores in the training dataset. This helps us understand how balanced or imbalanced the classes."
   ]
  },
  {
   "cell_type": "code",
   "execution_count": null,
   "id": "5687e9aa-4830-45cb-b047-1ec0a17493e3",
   "metadata": {},
   "outputs": [],
   "source": []
  },
  {
   "cell_type": "code",
   "execution_count": null,
   "id": "3282a9e0-1c8f-470b-9f33-eac128812729",
   "metadata": {},
   "outputs": [],
   "source": []
  },
  {
   "cell_type": "code",
   "execution_count": 60,
   "id": "04756860-cf05-4b72-8c2d-d6e468c0c363",
   "metadata": {},
   "outputs": [],
   "source": [
    "## finding the duration\n",
    "def get_duration(file_path):\n",
    "    try:\n",
    "        y, sr = librosa.load(file_path)\n",
    "        return librosa.get_duration(y=y, sr=sr)\n",
    "    except Exception as e:\n",
    "        print(\"Error:\", file_path, e)\n",
    "        return np.nan\n",
    "\n",
    "\n",
    "train_df['duration']= train_df['filename'].apply(lambda x: get_duration(os.path.join(\"audios_train\", x)))\n",
    "test_df['duration']= test_df['filename'].apply(lambda x: get_duration(os.path.join(\"audios_test\", x)))"
   ]
  },
  {
   "cell_type": "code",
   "execution_count": 61,
   "id": "274d7dcc-976c-430f-9539-e69358d5cf38",
   "metadata": {},
   "outputs": [
    {
     "data": {
      "image/png": "[encoded data removed]",
      "text/plain": [
       "<Figure size 640x480 with 1 Axes>"
      ]
     },
     "metadata": {},
     "output_type": "display_data"
    }
   ],
   "source": [
    "sns.histplot(train_df['duration'], bins=30)\n",
    "plt.title(\"Audio Duration Distribution (Train)\")\n",
    "plt.xlabel(\"Duration (seconds)\")\n",
    "plt.show()"
   ]
  },
  {
   "cell_type": "markdown",
   "id": "7b0daa69-cdf0-4baf-b041-bb0ca545e1ff",
   "metadata": {},
   "source": [
    "Here, we calculates the duration of each audio file in the training and test sets. Duration can be a useful feature for predicting grammar scores, as longer or more complete responses may reflect better grammar. It also helps detect any faulty or silent audio files."
   ]
  },
  {
   "cell_type": "code",
   "execution_count": null,
   "id": "fb9ebc14-f538-498d-a237-a5240f5b33c8",
   "metadata": {},
   "outputs": [],
   "source": []
  },
  {
   "cell_type": "markdown",
   "id": "c998e9d9-8b93-476f-8aaf-8e2f80de9813",
   "metadata": {},
   "source": [
    "### Feature extraction"
   ]
  },
  {
   "cell_type": "code",
   "execution_count": 62,
   "id": "d98e08ec-ab3f-4222-8740-c50d629bdf47",
   "metadata": {},
   "outputs": [],
   "source": [
    "def extract_features(filepath):\n",
    "    y, sr = librosa.load(filepath, sr=None)\n",
    "    \n",
    "    mfccs = librosa.feature.mfcc(y=y, sr=sr, n_mfcc=20)\n",
    "    chroma = librosa.feature.chroma_stft(y=y, sr=sr)\n",
    "    spectral_contrast = librosa.feature.spectral_contrast(y=y, sr=sr)\n",
    "    \n",
    "    features = {\n",
    "        'mfcc_mean': np.mean(mfccs),\n",
    "        'mfcc_std': np.std(mfccs),\n",
    "        'chroma_mean': np.mean(chroma),\n",
    "        'chroma_std': np.std(chroma),\n",
    "        'contrast_mean': np.mean(spectral_contrast),\n",
    "        'contrast_std': np.std(spectral_contrast),\n",
    "        'duration': librosa.get_duration(y=y, sr=sr)\n",
    "    }\n",
    "    \n",
    "    return features\n"
   ]
  },
  {
   "cell_type": "markdown",
   "id": "9de645e6-09f1-435b-aada-610b8dabc294",
   "metadata": {},
   "source": [
    "Here we extracts key audio features from a given .wav file to help the model understand the characteristics of speech that may relate to grammar quality.\n",
    "\n",
    "The function loads an audio file and computes the following features:\n",
    "\n",
    "MFCC (Mel-Frequency Cepstral Coefficients): Captures the tone and texture of the voice (speech-related features).\n",
    "\n",
    "Chroma: Represents pitch and harmony patterns.\n",
    "\n",
    "Spectral Contrast: Measures the difference between peaks and valleys in the frequency spectrum.\n",
    "\n",
    "Duration: Total length of the audio in seconds.\n",
    "\n",
    "For each of these features, it calculates the mean and standard deviation, which summarize the overall patterns and variability in the audio. These extracted features are returned as a dictionary and can be used to train machine learning models."
   ]
  },
  {
   "cell_type": "code",
   "execution_count": null,
   "id": "08a0eb8e-f6d6-4e91-a28c-de19b34127b8",
   "metadata": {},
   "outputs": [],
   "source": []
  },
  {
   "cell_type": "code",
   "execution_count": null,
   "id": "783553d1-8f98-4858-8845-8a2be25e18f5",
   "metadata": {},
   "outputs": [],
   "source": []
  },
  {
   "cell_type": "code",
   "execution_count": null,
   "id": "e6570f9f-abd0-408e-9818-432285d6bfa7",
   "metadata": {},
   "outputs": [],
   "source": []
  },
  {
   "cell_type": "code",
   "execution_count": 63,
   "id": "ebe352b3-3fd9-4783-938a-bea75ca189fa",
   "metadata": {},
   "outputs": [],
   "source": [
    "train_features = []\n",
    "for fname in train_df['filename']:\n",
    "    path = os.path.join('audios_train', fname)\n",
    "    features = extract_features(path)\n",
    "    features['filename'] = fname\n",
    "    features['label'] = train_df[train_df['filename'] == fname]['label'].values[0]\n",
    "    train_features.append(features)\n",
    "\n",
    "train_features_df = pd.DataFrame(train_features)\n"
   ]
  },
  {
   "cell_type": "code",
   "execution_count": null,
   "id": "4502c940-8a25-4be2-ba4e-f186a498ac27",
   "metadata": {},
   "outputs": [],
   "source": []
  },
  {
   "cell_type": "code",
   "execution_count": 64,
   "id": "24e65a1c-4392-4b2b-841d-95ab3ad52002",
   "metadata": {},
   "outputs": [],
   "source": [
    "test_features = []\n",
    "for fname in test_df['filename']:\n",
    "    path = os.path.join('audios_test', fname)\n",
    "    features = extract_features(path)\n",
    "    features['filename'] = fname\n",
    "    test_features.append(features)\n",
    "\n",
    "test_features_df = pd.DataFrame(test_features)\n"
   ]
  },
  {
   "cell_type": "markdown",
   "id": "e88a2796-4993-4c8f-8359-322d22c035fe",
   "metadata": {},
   "source": [
    "Above, we processes all audio files in both the training and test sets to extract meaningful features that can be used for machine learning. For each file in the training set, calculates audio features such as MFCCs, chroma, spectral contrast, and duration using the `extract_features()` function. It also attaches the corresponding grammar score label to each feature set. These are collected into a list and converted into a DataFrame called `train_features_df`. Similarly, the code extracts features for the test set files (without labels) and stores them in `test_features_df`. These feature-rich DataFrames are then ready for use in training and evaluating grammar score prediction models."
   ]
  },
  {
   "cell_type": "code",
   "execution_count": null,
   "id": "8b90fc0e-4168-4a16-b1f6-ff63bb4cef59",
   "metadata": {},
   "outputs": [],
   "source": []
  },
  {
   "cell_type": "code",
   "execution_count": null,
   "id": "b75a377e-81ae-4f39-a425-02d2a58a9126",
   "metadata": {},
   "outputs": [],
   "source": []
  },
  {
   "cell_type": "markdown",
   "id": "e05bd37f-017f-4eca-9a4c-2cd3eec5f64e",
   "metadata": {},
   "source": [
    "### spliting"
   ]
  },
  {
   "cell_type": "code",
   "execution_count": 67,
   "id": "c632f69d-bd82-4591-b0af-4b0fcdd5debc",
   "metadata": {},
   "outputs": [],
   "source": [
    "X_train= train_features_df.drop(['filename', 'label'], axis=1)\n",
    "y_train= train_features_df['label']\n",
    "X_test= test_features_df.drop(['filename'], axis=1)\n",
    "\n",
    "# Scaling\n",
    "scaler= StandardScaler()\n",
    "X_train_scaled= scaler.fit_transform(X_train)\n",
    "X_test_scaled= scaler.transform(X_test)\n"
   ]
  },
  {
   "cell_type": "code",
   "execution_count": null,
   "id": "a5d082c6-4cb8-4525-aaa5-d7721a5c7d67",
   "metadata": {},
   "outputs": [],
   "source": []
  },
  {
   "cell_type": "markdown",
   "id": "fe6f65b2-f772-40b2-b2dd-6794e5f10d2d",
   "metadata": {},
   "source": [
    "### Model Training + Hyperparameter Tuning"
   ]
  },
  {
   "cell_type": "code",
   "execution_count": 80,
   "id": "cece9641-f083-4a10-bdb1-49b8a26e6919",
   "metadata": {},
   "outputs": [
    {
     "name": "stdout",
     "output_type": "stream",
     "text": [
      "Best Parameters: {'max_depth': 20, 'n_estimators': 100}\n"
     ]
    }
   ],
   "source": [
    "model= RandomForestRegressor(random_state=42)\n",
    "\n",
    "param_grid={'n_estimators': [100, 200],'max_depth': [10, 20, None]}\n",
    "\n",
    "grid = GridSearchCV(model, param_grid, cv=3, scoring='neg_mean_absolute_error', n_jobs=-1)\n",
    "grid.fit(X_train_scaled, y_train)\n",
    "\n",
    "best_model = grid.best_estimator_\n",
    "print(\"Best Parameters:\", grid.best_params_)\n"
   ]
  },
  {
   "cell_type": "markdown",
   "id": "575d66e8-13bd-4a9e-96ad-bc9ccc60349f",
   "metadata": {},
   "source": [
    "Prepares the data for model training by separating features and labels. It drops the `filename` and `label` columns from the training set to create `X_train`, and keeps the `label` column as `y_train`. For the test set, it drops only the `filename` to create `X_test`. Then, it applies standard scaling using `StandardScaler` to normalize the feature values, ensuring all features have the same scale, which helps improve model performance."
   ]
  },
  {
   "cell_type": "code",
   "execution_count": null,
   "id": "41cf8c40-a34d-4055-9e90-f37280d81540",
   "metadata": {},
   "outputs": [],
   "source": []
  },
  {
   "cell_type": "code",
   "execution_count": null,
   "id": "da9e974b-1691-46e5-ac89-28705e264373",
   "metadata": {},
   "outputs": [],
   "source": []
  },
  {
   "cell_type": "markdown",
   "id": "bf00615e-a38c-4961-ae02-f5a2a6086338",
   "metadata": {},
   "source": [
    "### evaluation"
   ]
  },
  {
   "cell_type": "code",
   "execution_count": 93,
   "id": "7855afe9-0187-4db4-b02a-f1e0771b5f92",
   "metadata": {},
   "outputs": [
    {
     "name": "stdout",
     "output_type": "stream",
     "text": [
      "MAE on Training Data: 0.310\n",
      "RMSE on Training Data: 0.381\n"
     ]
    }
   ],
   "source": [
    "y_pred_train= best_model.predict(X_train_scaled)\n",
    "\n",
    "mae= mean_absolute_error(y_train, y_pred_train)\n",
    "rmse = mean_squared_error(y_train, y_pred_train, squared=False)\n",
    "\n",
    "print(f\"MAE on Training Data: {mae:.3f}\")\n",
    "print(f\"RMSE on Training Data: {rmse:.3f}\")\n"
   ]
  },
  {
   "cell_type": "markdown",
   "id": "d1c65bad-42f8-438e-b01e-ffb4608001fd",
   "metadata": {},
   "source": [
    "Evaluates the model’s performance on the training set by predicting grammar scores and calculating two error metrics: Mean Absolute Error (MAE) and Root Mean Squared Error (RMSE). These metrics indicate how close the model’s predictions are to the actual scores, with lower values reflecting better accuracy."
   ]
  },
  {
   "cell_type": "code",
   "execution_count": null,
   "id": "95942552-be9c-4a08-9e26-5e678606a544",
   "metadata": {},
   "outputs": [],
   "source": []
  },
  {
   "cell_type": "code",
   "execution_count": 97,
   "id": "0ee3cd1a-54a2-4372-b46a-7e10ea892f18",
   "metadata": {},
   "outputs": [
    {
     "name": "stdout",
     "output_type": "stream",
     "text": [
      "Accuracy: 0.700\n",
      "\n",
      "Classification Report:\n",
      "\n",
      "              precision    recall  f1-score   support\n",
      "\n",
      "           1      0.000     0.000     0.000         4\n",
      "           2      0.907     0.355     0.510       110\n",
      "           3      0.572     0.864     0.688       110\n",
      "           4      0.665     0.955     0.784       110\n",
      "           5      0.935     0.655     0.770       110\n",
      "\n",
      "    accuracy                          0.700       444\n",
      "   macro avg      0.616     0.565     0.550       444\n",
      "weighted avg      0.763     0.700     0.682       444\n",
      "\n"
     ]
    }
   ],
   "source": [
    "## accuracy\n",
    "y_true= y_train.astype(int)\n",
    "y_pred= np.clip(np.round(y_pred_train).astype(int), 1, 5)\n",
    "\n",
    "accuracy = accuracy_score(y_true, y_pred)\n",
    "print(f\"Accuracy: {accuracy:.3f}\")\n",
    "\n",
    "# Classification report\n",
    "print(\"\\nClassification Report:\\n\")\n",
    "print(classification_report(y_true, y_pred, digits=3))\n"
   ]
  },
  {
   "cell_type": "markdown",
   "id": "59e2cca6-c7cf-49e6-92bc-ab1277c12e6e",
   "metadata": {},
   "source": [
    "Calculates the classification accuracy by rounding and clipping the model’s predicted grammar scores to integer values between 1 and 5, matching the valid label range. It then compares them to the true labels to compute accuracy and displays a detailed classification report, showing precision, recall, and F1-score for each class."
   ]
  },
  {
   "cell_type": "code",
   "execution_count": null,
   "id": "0cdfc695-6f7a-4dbf-bc5f-16836e24cfad",
   "metadata": {},
   "outputs": [],
   "source": []
  },
  {
   "cell_type": "code",
   "execution_count": 99,
   "id": "64034c53-0136-429f-bf27-67cb5775ba36",
   "metadata": {},
   "outputs": [
    {
     "data": {
      "image/png": "[encoded data removed]",
      "text/plain": [
       "<Figure size 600x500 with 2 Axes>"
      ]
     },
     "metadata": {},
     "output_type": "display_data"
    }
   ],
   "source": [
    "## confusion matrix\n",
    "\n",
    "conf_matrix= confusion_matrix(y_true, y_pred)\n",
    "plt.figure(figsize=(6, 5))\n",
    "sns.heatmap(conf_matrix, annot=True, fmt='d', cmap='Blues', xticklabels=range(1, 6), yticklabels=range(1, 6))\n",
    "plt.xlabel(\"Predicted Label\")\n",
    "plt.ylabel(\"True Label\")\n",
    "plt.title(\"Confusion Matrix (Training Set)\")\n",
    "plt.show()"
   ]
  },
  {
   "cell_type": "markdown",
   "id": "a8e586fa-5bb8-4473-a58d-a39c5e76aaf7",
   "metadata": {},
   "source": [
    "Generates a confusion matrix to visualize the model’s prediction performance on the training set. It shows how often each true grammar score was correctly or incorrectly predicted. The heatmap highlights the distribution of predictions across all score classes (1 to 5), helping identify where the model tends to misclassify."
   ]
  },
  {
   "cell_type": "code",
   "execution_count": null,
   "id": "eab84729-6d35-48fd-a50e-954e5159a78e",
   "metadata": {},
   "outputs": [],
   "source": []
  },
  {
   "cell_type": "code",
   "execution_count": null,
   "id": "a8a1fe98-6ef8-40c3-9aab-20747a34d113",
   "metadata": {},
   "outputs": [],
   "source": []
  },
  {
   "cell_type": "markdown",
   "id": "a165dd9a-a4a3-4587-9400-a80b5daae0a1",
   "metadata": {},
   "source": [
    "## building new dataset"
   ]
  },
  {
   "cell_type": "code",
   "execution_count": 101,
   "id": "1a124841-eb32-4b6e-aa72-6f673b7d8873",
   "metadata": {},
   "outputs": [
    {
     "data": {
      "text/html": [
       "<div>\n",
       "<style scoped>\n",
       "    .dataframe tbody tr th:only-of-type {\n",
       "        vertical-align: middle;\n",
       "    }\n",
       "\n",
       "    .dataframe tbody tr th {\n",
       "        vertical-align: top;\n",
       "    }\n",
       "\n",
       "    .dataframe thead th {\n",
       "        text-align: right;\n",
       "    }\n",
       "</style>\n",
       "<table border=\"1\" class=\"dataframe\">\n",
       "  <thead>\n",
       "    <tr style=\"text-align: right;\">\n",
       "      <th></th>\n",
       "      <th>filename</th>\n",
       "      <th>label</th>\n",
       "    </tr>\n",
       "  </thead>\n",
       "  <tbody>\n",
       "    <tr>\n",
       "      <th>0</th>\n",
       "      <td>audio_706.wav</td>\n",
       "      <td>4</td>\n",
       "    </tr>\n",
       "    <tr>\n",
       "      <th>1</th>\n",
       "      <td>audio_800.wav</td>\n",
       "      <td>3</td>\n",
       "    </tr>\n",
       "    <tr>\n",
       "      <th>2</th>\n",
       "      <td>audio_68.wav</td>\n",
       "      <td>4</td>\n",
       "    </tr>\n",
       "    <tr>\n",
       "      <th>3</th>\n",
       "      <td>audio_1267.wav</td>\n",
       "      <td>3</td>\n",
       "    </tr>\n",
       "    <tr>\n",
       "      <th>4</th>\n",
       "      <td>audio_683.wav</td>\n",
       "      <td>3</td>\n",
       "    </tr>\n",
       "  </tbody>\n",
       "</table>\n",
       "</div>"
      ],
      "text/plain": [
       "         filename  label\n",
       "0   audio_706.wav      4\n",
       "1   audio_800.wav      3\n",
       "2    audio_68.wav      4\n",
       "3  audio_1267.wav      3\n",
       "4   audio_683.wav      3"
      ]
     },
     "execution_count": 101,
     "metadata": {},
     "output_type": "execute_result"
    }
   ],
   "source": [
    "test_preds= best_model.predict(X_test_scaled)\n",
    "\n",
    "submission_df = pd.DataFrame({\n",
    "    'filename': test_df['filename'],\n",
    "    'label': np.clip(np.round(test_preds).astype(int), 1, 5)\n",
    "})\n",
    "submission_df.to_csv(\"submission.csv\", index=False)\n",
    "submission_df.head()\n"
   ]
  },
  {
   "cell_type": "markdown",
   "id": "68901b64-d10c-4ab3-8e84-e47c29b4a3d2",
   "metadata": {},
   "source": [
    "Generates final predictions for the test set using the trained model. The predicted scores are rounded and clipped between 1 and 5 to match valid grammar score labels. A new DataFrame is created with filenames and their predicted labels, which is then saved as `submission.csv`—the final output file for submission. The first few rows are displayed to verify the results."
   ]
  },
  {
   "cell_type": "code",
   "execution_count": null,
   "id": "28d587d3-c4b4-442b-b366-b2cdda3c6df9",
   "metadata": {},
   "outputs": [],
   "source": []
  },
  {
   "cell_type": "markdown",
   "id": "9abc6651-5927-4074-9243-b42a12c7b882",
   "metadata": {},
   "source": [
    "### prediction"
   ]
  },
  {
   "cell_type": "code",
   "execution_count": 102,
   "id": "c72653da-a8de-4454-9d68-5465fccecf36",
   "metadata": {},
   "outputs": [],
   "source": [
    "def predict_grammar_score(audio_path, model, scaler):\n",
    "    features= extract_features(audio_path)\n",
    "    input_data= pd.DataFrame([features])\n",
    "    input_scaled= scaler.transform(input_data)\n",
    "    pred=model.predict(input_scaled)[0]\n",
    "    \n",
    "    return round(np.clip(pred, 1, 5))\n"
   ]
  },
  {
   "cell_type": "markdown",
   "id": "02f43cfe-a6b5-456e-aafc-f420f2ecdb93",
   "metadata": {},
   "source": [
    "This function predicts the grammar score for a single audio file. It first extracts audio features using `extract_features`, scales them using the fitted `scaler`, and then makes a prediction using the trained `model`. The output is rounded and clipped to ensure it falls within the valid score range (1 to 5), and the final predicted grammar score is returned."
   ]
  },
  {
   "cell_type": "code",
   "execution_count": null,
   "id": "81833bb1-38e2-4d58-b53a-cee49fdc2028",
   "metadata": {},
   "outputs": [],
   "source": []
  },
  {
   "cell_type": "code",
   "execution_count": 103,
   "id": "076a6c02-fff4-4b62-b060-3166cbfb4ed4",
   "metadata": {},
   "outputs": [
    {
     "name": "stdout",
     "output_type": "stream",
     "text": [
      "Predicted Grammar Score: 3\n"
     ]
    }
   ],
   "source": [
    "single_file= r\"audios_test/audio_137.wav\"\n",
    "score = predict_grammar_score(single_file, best_model, scaler)\n",
    "print(\"Predicted Grammar Score:\", score)"
   ]
  },
  {
   "cell_type": "markdown",
   "id": "d67f9792-a9ed-4eaa-8ef8-1c1115534610",
   "metadata": {},
   "source": [
    "This code demonstrates how to use the `predict_grammar_score` function to evaluate a single audio file. It provides the file path of a test audio (`audio_137.wav`), predicts the grammar score using the trained model and scaler, and prints the result. This is useful for quickly testing the model on individual audio samples."
   ]
  },
  {
   "cell_type": "code",
   "execution_count": null,
   "id": "17e119e6-a10e-43de-9e06-497d1938fbdb",
   "metadata": {},
   "outputs": [],
   "source": []
  },
  {
   "cell_type": "markdown",
   "id": "8bf16302-2dbb-42ca-9379-665c94c5bc8b",
   "metadata": {},
   "source": [
    "### 📌 Conclusion\n",
    "\n",
    "In this project, we developed a machine learning pipeline to predict grammar proficiency scores (ranging from 1 to 5) from spoken audio samples using supervised learning. The key highlights of the work are as follows:\n",
    "\n",
    "- **Data Preprocessing**: Audio files were processed using MFCC features to capture relevant acoustic patterns indicative of grammar usage.\n",
    "- **Exploratory Data Analysis (EDA)** revealed a reasonably balanced label distribution, with minor skew toward intermediate scores.\n",
    "- **Modeling**: A Ridge regression model was trained on extracted features. Through hyperparameter tuning and feature scaling, we achieved competitive performance.\n",
    "- **Evaluation**:\n",
    "  - **MAE** and **RMSE** were used to evaluate the regression performance.\n",
    "  - **Accuracy**, **Confusion Matrix**, and **Classification Report** provided deeper insights into class-wise performance.\n",
    "- **Prediction Pipeline**: A reusable pipeline was created to process and predict grammar scores from any new `.wav` file.\n",
    "- **Submission**: A valid `submission.csv` file was generated as per the required format.\n",
    "\n",
    "Overall, the model demonstrates good generalization capability in mapping acoustic features to grammar proficiency levels. Future improvements could explore more advanced models like CNNs on spectrograms or attention-based architectures for improved performance.\n"
   ]
  },
  {
   "cell_type": "markdown",
   "id": "cadd98c9-536c-42af-b180-e88946acc4c7",
   "metadata": {},
   "source": []
  }
 ],
 "metadata": {
  "kernelspec": {
   "display_name": "Python 3 (ipykernel)",
   "language": "python",
   "name": "python3"
  },
  "language_info": {
   "codemirror_mode": {
    "name": "ipython",
    "version": 3
   },
   "file_extension": ".py",
   "mimetype": "text/x-python",
   "name": "python",
   "nbconvert_exporter": "python",
   "pygments_lexer": "ipython3",
   "version": "3.12.4"
  }
 },
 "nbformat": 4,
 "nbformat_minor": 5
}
